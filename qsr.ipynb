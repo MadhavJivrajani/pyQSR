{
 "cells": [
  {
   "cell_type": "code",
   "execution_count": 1,
   "metadata": {},
   "outputs": [],
   "source": [
    "from qiskit import *"
   ]
  },
  {
   "cell_type": "code",
   "execution_count": 2,
   "metadata": {},
   "outputs": [],
   "source": [
    "class QuantumLeftShift:\n",
    "    def __init__(self, data_qubits, max_shifts, seed):\n",
    "        self.max_shift = max_shifts\n",
    "        self.seed_string = seed\n",
    "        \n",
    "        #to follow qiskit's little endian format\n",
    "        self.seed = list(map(int, list(seed)))[::-1]\n",
    "        self.n = data_qubits\n",
    "        \n",
    "        if len(seed) != self.n:\n",
    "            raise ValueError(\"length of seed should be equal to number of data qubits\")\n",
    "    \n",
    "        self.qc = QuantumCircuit(self.n + self.max_shift, self.n)\n",
    "        self.shifts_done = 0\n",
    "        self.__encodeSeed()\n",
    "        \n",
    "    def __repr__(self):\n",
    "        return \"QuantumShiftLeft(data_qubits = %d, max_shifts = %d, seed = \\\"%s\\\")\" % (\n",
    "                                                                                        self.n,\n",
    "                                                                                        self.max_shift,\n",
    "                                                                                        self.seed_string\n",
    "                                                                                      )\n",
    "    \n",
    "    def __str__(self):\n",
    "        print(self.qc)\n",
    "        return \"Data qubits: %d\\nMax shifts: %d\\nInitial seed: %s\\nShifts performed: %d\\n\" % (\n",
    "                                                                                              self.n, \n",
    "                                                                                              self.max_shift, \n",
    "                                                                                              self.seed_string, \n",
    "                                                                                              self.shifts_done\n",
    "                                                                                             )\n",
    "    \n",
    "    \n",
    "    def __encodeSeed(self):\n",
    "        for i in range(len(self.seed)):\n",
    "            if self.seed[i] == 1:\n",
    "                self.qc.x(i)\n",
    "    \n",
    "    def constructShiftUnitary(self):\n",
    "        pass\n",
    "    \n",
    "    "
   ]
  },
  {
   "cell_type": "code",
   "execution_count": 3,
   "metadata": {},
   "outputs": [],
   "source": [
    "qsl = QuantumLeftShift(4, 3, \"1011\")"
   ]
  },
  {
   "cell_type": "code",
   "execution_count": 4,
   "metadata": {},
   "outputs": [
    {
     "name": "stdout",
     "output_type": "stream",
     "text": [
      "     ┌───┐\n",
      "q_0: ┤ X ├\n",
      "     ├───┤\n",
      "q_1: ┤ X ├\n",
      "     └───┘\n",
      "q_2: ─────\n",
      "     ┌───┐\n",
      "q_3: ┤ X ├\n",
      "     └───┘\n",
      "q_4: ─────\n",
      "          \n",
      "q_5: ─────\n",
      "          \n",
      "q_6: ─────\n",
      "          \n",
      "c_0: ═════\n",
      "          \n",
      "c_1: ═════\n",
      "          \n",
      "c_2: ═════\n",
      "          \n",
      "c_3: ═════\n",
      "          \n",
      "Data qubits: 4\n",
      "Max shifts: 3\n",
      "Initial seed: 1011\n",
      "Shifts performed: 0\n",
      "\n"
     ]
    }
   ],
   "source": [
    "print(qsl)"
   ]
  },
  {
   "cell_type": "code",
   "execution_count": null,
   "metadata": {},
   "outputs": [],
   "source": []
  },
  {
   "cell_type": "code",
   "execution_count": null,
   "metadata": {},
   "outputs": [],
   "source": []
  }
 ],
 "metadata": {
  "kernelspec": {
   "display_name": "Python 3",
   "language": "python",
   "name": "python3"
  },
  "language_info": {
   "codemirror_mode": {
    "name": "ipython",
    "version": 3
   },
   "file_extension": ".py",
   "mimetype": "text/x-python",
   "name": "python",
   "nbconvert_exporter": "python",
   "pygments_lexer": "ipython3",
   "version": "3.6.9"
  }
 },
 "nbformat": 4,
 "nbformat_minor": 4
}
