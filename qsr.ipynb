{
 "cells": [
  {
   "cell_type": "code",
   "execution_count": 1,
   "metadata": {},
   "outputs": [],
   "source": [
    "from qiskit import QuantumCircuit, execute, Aer"
   ]
  },
  {
   "cell_type": "code",
   "execution_count": 2,
   "metadata": {},
   "outputs": [],
   "source": [
    "class QuantumLeftShift:\n",
    "    def __init__(self, data_qubits, seed, circular = False):\n",
    "        self.seed_string = seed\n",
    "        \n",
    "        #to follow qiskit's little endian format\n",
    "        self.seed = list(map(int, list(seed)))[::-1]\n",
    "        self.n = data_qubits\n",
    "        \n",
    "        if len(seed) != self.n:\n",
    "            raise ValueError(\"length of seed should be equal to number of data qubits\")\n",
    "    \n",
    "        self.qc = QuantumCircuit(self.n + self.n + 1, self.n)\n",
    "        self.shifts_done = 0\n",
    "        self.circular = circular\n",
    "        self.__prepareCircuit()\n",
    "        \n",
    "        self.shiftGate = self.constructShiftGate()\n",
    "        \n",
    "    def __repr__(self):\n",
    "        return \"QuantumShiftLeft(data_qubits = %d, seed = \\\"%s\\\", circular = %s)\" % (\n",
    "                                                                                        self.n,\n",
    "                                                                                        self.seed_string,\n",
    "                                                                                        str(self.circular)\n",
    "                                                                                    )\n",
    "    \n",
    "    def __str__(self):\n",
    "        print(self.qc)\n",
    "        return \"Data qubits: %d\\nInitial seed: %s\\nShifts performed: %d\\nCircular: %s\" % (\n",
    "                                                                                              self.n, \n",
    "                                                                                              self.seed_string, \n",
    "                                                                                              self.shifts_done,\n",
    "                                                                                              str(self.circular)  \n",
    "                                                                                        )\n",
    "    \n",
    "    \n",
    "    def __prepareCircuit(self):\n",
    "        for i in range(len(self.seed)):\n",
    "            if self.seed[i] == 1:\n",
    "                self.qc.x(i)\n",
    "        if(self.circular):\n",
    "            self.qc.x(self.n + self.n)\n",
    "        self.qc.barrier(range(self.n + self.n + 1))            \n",
    "    \n",
    "    def constructShiftGate(self):\n",
    "        if self.circular:\n",
    "            name = \"Circular Left Shift\"\n",
    "        else:\n",
    "            name = \"Left Shift\"\n",
    "            \n",
    "        shiftCirc = QuantumCircuit(self.n + self.n + 1, name = name)\n",
    "        for qubit in range(1, self.n + self.n)[::-1]:\n",
    "            shiftCirc.swap(qubit, qubit - 1)\n",
    "        \n",
    "        shiftCirc.cx(0, self.n)\n",
    "        shiftCirc.toffoli(self.n + self.n, self.n, 0)\n",
    "        shiftCirc.cx(0, self.n)\n",
    "        \n",
    "        shiftGate = shiftCirc.to_gate()\n",
    "        return shiftGate\n",
    "    \n",
    "    def shift(self):\n",
    "        self.shifts_done += 1\n",
    "        self.qc.append(self.shiftGate, range(self.n + self.n + 1))\n",
    "    \n",
    "    def getRegisterState(self):\n",
    "        self.qc.barrier(range(self.n + self.n + 1)) \n",
    "        self.qc.measure(range(self.n), range(self.n))\n",
    "        self.qc.barrier(range(self.n + self.n + 1))\n",
    "        \n",
    "        backend = Aer.get_backend('statevector_simulator')\n",
    "        registerState = execute(self.qc, backend, shots = 1024).result().get_counts()\n",
    "        \n",
    "        return registerState        "
   ]
  },
  {
   "cell_type": "code",
   "execution_count": 3,
   "metadata": {},
   "outputs": [],
   "source": [
    "qsl = QuantumLeftShift(4, \"1011\", circular = True)"
   ]
  },
  {
   "cell_type": "code",
   "execution_count": 4,
   "metadata": {},
   "outputs": [
    {
     "data": {
      "text/plain": [
       "{'1110': 8}"
      ]
     },
     "execution_count": 4,
     "metadata": {},
     "output_type": "execute_result"
    }
   ],
   "source": [
    "qsl.shift()\n",
    "qsl.shift()\n",
    "qsl.getRegisterState()"
   ]
  },
  {
   "cell_type": "code",
   "execution_count": 5,
   "metadata": {},
   "outputs": [
    {
     "data": {
      "text/plain": [
       "QuantumShiftLeft(data_qubits = 4, seed = \"1011\", circular = True)"
      ]
     },
     "execution_count": 5,
     "metadata": {},
     "output_type": "execute_result"
    }
   ],
   "source": [
    "qsl"
   ]
  },
  {
   "cell_type": "code",
   "execution_count": 6,
   "metadata": {},
   "outputs": [
    {
     "name": "stdout",
     "output_type": "stream",
     "text": [
      "     ┌───┐ ░ ┌──────────────────────┐┌──────────────────────┐ ░ ┌─┐          ░ \n",
      "q_0: ┤ X ├─░─┤0                     ├┤0                     ├─░─┤M├──────────░─\n",
      "     ├───┤ ░ │                      ││                      │ ░ └╥┘┌─┐       ░ \n",
      "q_1: ┤ X ├─░─┤1                     ├┤1                     ├─░──╫─┤M├───────░─\n",
      "     └───┘ ░ │                      ││                      │ ░  ║ └╥┘┌─┐    ░ \n",
      "q_2: ──────░─┤2                     ├┤2                     ├─░──╫──╫─┤M├────░─\n",
      "     ┌───┐ ░ │                      ││                      │ ░  ║  ║ └╥┘┌─┐ ░ \n",
      "q_3: ┤ X ├─░─┤3                     ├┤3                     ├─░──╫──╫──╫─┤M├─░─\n",
      "     └───┘ ░ │                      ││                      │ ░  ║  ║  ║ └╥┘ ░ \n",
      "q_4: ──────░─┤4 Circular Left Shift ├┤4 Circular Left Shift ├─░──╫──╫──╫──╫──░─\n",
      "           ░ │                      ││                      │ ░  ║  ║  ║  ║  ░ \n",
      "q_5: ──────░─┤5                     ├┤5                     ├─░──╫──╫──╫──╫──░─\n",
      "           ░ │                      ││                      │ ░  ║  ║  ║  ║  ░ \n",
      "q_6: ──────░─┤6                     ├┤6                     ├─░──╫──╫──╫──╫──░─\n",
      "           ░ │                      ││                      │ ░  ║  ║  ║  ║  ░ \n",
      "q_7: ──────░─┤7                     ├┤7                     ├─░──╫──╫──╫──╫──░─\n",
      "     ┌───┐ ░ │                      ││                      │ ░  ║  ║  ║  ║  ░ \n",
      "q_8: ┤ X ├─░─┤8                     ├┤8                     ├─░──╫──╫──╫──╫──░─\n",
      "     └───┘ ░ └──────────────────────┘└──────────────────────┘ ░  ║  ║  ║  ║  ░ \n",
      "c_0: ════════════════════════════════════════════════════════════╩══╬══╬══╬════\n",
      "                                                                    ║  ║  ║    \n",
      "c_1: ═══════════════════════════════════════════════════════════════╩══╬══╬════\n",
      "                                                                       ║  ║    \n",
      "c_2: ══════════════════════════════════════════════════════════════════╩══╬════\n",
      "                                                                          ║    \n",
      "c_3: ═════════════════════════════════════════════════════════════════════╩════\n",
      "                                                                               \n",
      "Data qubits: 4\n",
      "Initial seed: 1011\n",
      "Shifts performed: 2\n",
      "Circular: True\n"
     ]
    }
   ],
   "source": [
    "print(qsl)"
   ]
  }
 ],
 "metadata": {
  "kernelspec": {
   "display_name": "Python 3",
   "language": "python",
   "name": "python3"
  },
  "language_info": {
   "codemirror_mode": {
    "name": "ipython",
    "version": 3
   },
   "file_extension": ".py",
   "mimetype": "text/x-python",
   "name": "python",
   "nbconvert_exporter": "python",
   "pygments_lexer": "ipython3",
   "version": "3.6.9"
  }
 },
 "nbformat": 4,
 "nbformat_minor": 4
}
